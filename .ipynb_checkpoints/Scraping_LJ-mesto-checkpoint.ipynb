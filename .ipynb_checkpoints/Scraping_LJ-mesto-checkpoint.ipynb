{
 "cells": [
  {
   "cell_type": "code",
   "execution_count": 1,
   "metadata": {},
   "outputs": [],
   "source": [
    "from selenium import webdriver\n",
    "from selenium.webdriver.common.keys import Keys"
   ]
  },
  {
   "cell_type": "code",
   "execution_count": 2,
   "metadata": {},
   "outputs": [],
   "source": [
    "import pandas as pd\n",
    "import numpy as np\n",
    "import bs4\n",
    "import lxml.etree as xml\n",
    "import time\n",
    "import datetime\n",
    "from tqdm import tqdm\n",
    "import random"
   ]
  },
  {
   "cell_type": "code",
   "execution_count": 3,
   "metadata": {},
   "outputs": [],
   "source": [
    "PATH = '/Users/Asus/Downloads/chromedriver' # Defines where my cromedriver package is installed. Opens an automated Chrome window.\n",
    "driver = webdriver.Chrome(PATH) # names webdriver as driver and assigns path. \n",
    "driver.quit() # closes the driver so the window is not always on. "
   ]
  },
  {
   "cell_type": "code",
   "execution_count": 17,
   "metadata": {},
   "outputs": [],
   "source": [
    "url = 'https://www.nepremicnine.net/oglasi-prodaja/ljubljana-mesto/stanovanje/'"
   ]
  },
  {
   "cell_type": "code",
   "execution_count": 6,
   "metadata": {},
   "outputs": [],
   "source": [
    "driver = webdriver.Chrome(PATH) \n",
    "driver.get(url) # automatically opens Nepremicnine.net\n",
    "# driver.quit() # this closes the window. \n",
    "html = driver.page_source\n",
    "webPage = bs4.BeautifulSoup(html, \"lxml\")\n",
    "driver.quit()"
   ]
  },
  {
   "cell_type": "code",
   "execution_count": 7,
   "metadata": {},
   "outputs": [
    {
     "data": {
      "text/plain": [
       "42"
      ]
     },
     "execution_count": 7,
     "metadata": {},
     "output_type": "execute_result"
    }
   ],
   "source": [
    "tpages = int(webPage.find('div', id= 'pagination').find('span').text)\n",
    "tpages"
   ]
  },
  {
   "cell_type": "code",
   "execution_count": 10,
   "metadata": {},
   "outputs": [
    {
     "data": {
      "text/plain": [
       "(0, 9)"
      ]
     },
     "execution_count": 10,
     "metadata": {},
     "output_type": "execute_result"
    }
   ],
   "source": [
    "# Starting DataFrame.\n",
    "d = []\n",
    "colNames = ['AdID','Type', 'Link']\n",
    "data = pd.DataFrame(d, columns= colNames)\n",
    "data.shape"
   ]
  },
  {
   "cell_type": "code",
   "execution_count": 9,
   "metadata": {},
   "outputs": [],
   "source": [
    "del data"
   ]
  },
  {
   "cell_type": "code",
   "execution_count": 24,
   "metadata": {},
   "outputs": [],
   "source": [
    "def readAds(webPage, col_names):\n",
    "    d = []\n",
    "    colNames = col_names\n",
    "    df = pd.DataFrame(d, columns= colNames)\n",
    "    \n",
    "    for ad in webPage.find_all('div', itemprop='item'): \n",
    "        list1 = []\n",
    "\n",
    "        # AdID\n",
    "        list1.append(int(ad.find('a', class_='ikona-sh3 utility')['data-id']))\n",
    "        \n",
    "        # Type\n",
    "        list1.append(ad.find('span', class_='vrsta').text)\n",
    "        \n",
    "        #Link\n",
    "        list1.append(ad.find('a', class_='slika')['href'])\n",
    "        \n",
    "        #date when it gets appended ot the list\n",
    "        date = datetime.datetime.now()\n",
    "        list1.append(date)\n",
    "\n",
    "        dfx = pd.Series(list1,colNames)\n",
    "        df = df.append(dfx,ignore_index = True)\n",
    "    return df"
   ]
  },
  {
   "cell_type": "code",
   "execution_count": 25,
   "metadata": {},
   "outputs": [],
   "source": [
    "# adding df of every page to the main df.\n",
    "def addDF(mainDF, newDF):\n",
    "    df = pd.concat([mainDF, newDF],ignore_index=True)\n",
    "    return df"
   ]
  },
  {
   "cell_type": "code",
   "execution_count": 4,
   "metadata": {},
   "outputs": [],
   "source": [
    "def scrape_links(col_names,url): \n",
    "    d = []\n",
    "    colNames = col_names\n",
    "    df = pd.DataFrame(d, columns= colNames)\n",
    "    \n",
    "    driver = webdriver.Chrome(PATH) \n",
    "    base_url = url\n",
    "    driver.get(url)\n",
    "    html = driver.page_source\n",
    "    webPage = bs4.BeautifulSoup(html, \"lxml\")\n",
    "    \n",
    "    base_df = df.iloc[0:0]\n",
    "    df1 = df.iloc[0:0]\n",
    "    \n",
    "    start = 0\n",
    "    end = (int(webPage.find('div', id= 'pagination').find('span').text)+1)\n",
    "    print('total pages= ' + str(end))\n",
    "    for i in tqdm(range(start+1,end)):\n",
    "        urli = base_url + str(i) + '/'\n",
    "        driver.get(urli)\n",
    "\n",
    "       # time.sleep(0.2 + random.randint(1,6)/10)\n",
    "        html = driver.page_source\n",
    "        webPage = bs4.BeautifulSoup(html, \"lxml\")\n",
    "\n",
    "        df1 = readAds(webPage, colNames)\n",
    "        base_df = addDF(base_df, df1)\n",
    "    driver.quit()\n",
    "    base_df.to_csv(\"./nepremicnine_Stanovanje_\" + str(start) + '-'+ str(end) + \".csv\")"
   ]
  },
  {
   "cell_type": "code",
   "execution_count": null,
   "metadata": {},
   "outputs": [],
   "source": []
  },
  {
   "cell_type": "code",
   "execution_count": 35,
   "metadata": {},
   "outputs": [],
   "source": [
    "colNames = ['AdID','Type', 'Link', 'TimeScraped']"
   ]
  },
  {
   "cell_type": "code",
   "execution_count": 36,
   "metadata": {},
   "outputs": [
    {
     "name": "stderr",
     "output_type": "stream",
     "text": [
      "100%|██████████████████████████████████████████████████████████████████████████████████| 42/42 [00:49<00:00,  1.19s/it]\n"
     ]
    }
   ],
   "source": [
    "scrape_links(colNames,url)"
   ]
  },
  {
   "cell_type": "code",
   "execution_count": 40,
   "metadata": {},
   "outputs": [],
   "source": [
    "data1 = pd.read_csv('nepremicnine_Stanovanje_0-43.csv', index_col = 0,sep = ',')"
   ]
  },
  {
   "cell_type": "code",
   "execution_count": 41,
   "metadata": {},
   "outputs": [
    {
     "data": {
      "text/html": [
       "<div>\n",
       "<style scoped>\n",
       "    .dataframe tbody tr th:only-of-type {\n",
       "        vertical-align: middle;\n",
       "    }\n",
       "\n",
       "    .dataframe tbody tr th {\n",
       "        vertical-align: top;\n",
       "    }\n",
       "\n",
       "    .dataframe thead th {\n",
       "        text-align: right;\n",
       "    }\n",
       "</style>\n",
       "<table border=\"1\" class=\"dataframe\">\n",
       "  <thead>\n",
       "    <tr style=\"text-align: right;\">\n",
       "      <th></th>\n",
       "      <th>AdID</th>\n",
       "      <th>Type</th>\n",
       "      <th>Link</th>\n",
       "      <th>TimeScraped</th>\n",
       "    </tr>\n",
       "  </thead>\n",
       "  <tbody>\n",
       "    <tr>\n",
       "      <th>0</th>\n",
       "      <td>6390803</td>\n",
       "      <td>Stanovanje</td>\n",
       "      <td>/oglasi-prodaja/bezigrajski-dvor-plava-laguna-...</td>\n",
       "      <td>2021-03-08 18:37:20.901107</td>\n",
       "    </tr>\n",
       "    <tr>\n",
       "      <th>1</th>\n",
       "      <td>6389036</td>\n",
       "      <td>Stanovanje</td>\n",
       "      <td>/oglasi-prodaja/bs-3-stanovanje_6389036/</td>\n",
       "      <td>2021-03-08 18:37:20.917064</td>\n",
       "    </tr>\n",
       "    <tr>\n",
       "      <th>2</th>\n",
       "      <td>6391861</td>\n",
       "      <td>Stanovanje</td>\n",
       "      <td>/oglasi-prodaja/btc-balkon-dvigalo-nova-fasada...</td>\n",
       "      <td>2021-03-08 18:37:20.921054</td>\n",
       "    </tr>\n",
       "    <tr>\n",
       "      <th>3</th>\n",
       "      <td>6391755</td>\n",
       "      <td>Stanovanje</td>\n",
       "      <td>/oglasi-prodaja/crnuce-stanovanje_6391755/</td>\n",
       "      <td>2021-03-08 18:37:20.925043</td>\n",
       "    </tr>\n",
       "    <tr>\n",
       "      <th>4</th>\n",
       "      <td>6384315</td>\n",
       "      <td>Stanovanje</td>\n",
       "      <td>/oglasi-prodaja/dravlje-stanovanje_6384315/</td>\n",
       "      <td>2021-03-08 18:37:20.929034</td>\n",
       "    </tr>\n",
       "    <tr>\n",
       "      <th>...</th>\n",
       "      <td>...</td>\n",
       "      <td>...</td>\n",
       "      <td>...</td>\n",
       "      <td>...</td>\n",
       "    </tr>\n",
       "    <tr>\n",
       "      <th>1225</th>\n",
       "      <td>6333072</td>\n",
       "      <td>Stanovanje</td>\n",
       "      <td>/oglasi-prodaja/zupanciceva-jama-hacquetova-ul...</td>\n",
       "      <td>2021-03-08 18:38:08.711151</td>\n",
       "    </tr>\n",
       "    <tr>\n",
       "      <th>1226</th>\n",
       "      <td>6377239</td>\n",
       "      <td>Stanovanje</td>\n",
       "      <td>/oglasi-prodaja/zupanciceva-jama-lj-blizu-cent...</td>\n",
       "      <td>2021-03-08 18:38:08.714140</td>\n",
       "    </tr>\n",
       "    <tr>\n",
       "      <th>1227</th>\n",
       "      <td>6388931</td>\n",
       "      <td>Stanovanje</td>\n",
       "      <td>/oglasi-prodaja/zupanciceva-jama-lj-blizu-cent...</td>\n",
       "      <td>2021-03-08 18:38:08.717132</td>\n",
       "    </tr>\n",
       "    <tr>\n",
       "      <th>1228</th>\n",
       "      <td>6337407</td>\n",
       "      <td>Stanovanje</td>\n",
       "      <td>/oglasi-prodaja/zupanciceva-jama-pes-sprehod-d...</td>\n",
       "      <td>2021-03-08 18:38:08.720124</td>\n",
       "    </tr>\n",
       "    <tr>\n",
       "      <th>1229</th>\n",
       "      <td>6381088</td>\n",
       "      <td>Stanovanje</td>\n",
       "      <td>/oglasi-prodaja/zupanciceva-jama-zelezna-cesta...</td>\n",
       "      <td>2021-03-08 18:38:08.723117</td>\n",
       "    </tr>\n",
       "  </tbody>\n",
       "</table>\n",
       "<p>1230 rows × 4 columns</p>\n",
       "</div>"
      ],
      "text/plain": [
       "         AdID        Type                                               Link  \\\n",
       "0     6390803  Stanovanje  /oglasi-prodaja/bezigrajski-dvor-plava-laguna-...   \n",
       "1     6389036  Stanovanje           /oglasi-prodaja/bs-3-stanovanje_6389036/   \n",
       "2     6391861  Stanovanje  /oglasi-prodaja/btc-balkon-dvigalo-nova-fasada...   \n",
       "3     6391755  Stanovanje         /oglasi-prodaja/crnuce-stanovanje_6391755/   \n",
       "4     6384315  Stanovanje        /oglasi-prodaja/dravlje-stanovanje_6384315/   \n",
       "...       ...         ...                                                ...   \n",
       "1225  6333072  Stanovanje  /oglasi-prodaja/zupanciceva-jama-hacquetova-ul...   \n",
       "1226  6377239  Stanovanje  /oglasi-prodaja/zupanciceva-jama-lj-blizu-cent...   \n",
       "1227  6388931  Stanovanje  /oglasi-prodaja/zupanciceva-jama-lj-blizu-cent...   \n",
       "1228  6337407  Stanovanje  /oglasi-prodaja/zupanciceva-jama-pes-sprehod-d...   \n",
       "1229  6381088  Stanovanje  /oglasi-prodaja/zupanciceva-jama-zelezna-cesta...   \n",
       "\n",
       "                     TimeScraped  \n",
       "0     2021-03-08 18:37:20.901107  \n",
       "1     2021-03-08 18:37:20.917064  \n",
       "2     2021-03-08 18:37:20.921054  \n",
       "3     2021-03-08 18:37:20.925043  \n",
       "4     2021-03-08 18:37:20.929034  \n",
       "...                          ...  \n",
       "1225  2021-03-08 18:38:08.711151  \n",
       "1226  2021-03-08 18:38:08.714140  \n",
       "1227  2021-03-08 18:38:08.717132  \n",
       "1228  2021-03-08 18:38:08.720124  \n",
       "1229  2021-03-08 18:38:08.723117  \n",
       "\n",
       "[1230 rows x 4 columns]"
      ]
     },
     "execution_count": 41,
     "metadata": {},
     "output_type": "execute_result"
    }
   ],
   "source": [
    "data1"
   ]
  },
  {
   "cell_type": "code",
   "execution_count": null,
   "metadata": {},
   "outputs": [],
   "source": [
    "# scraping individual ads \n",
    "colNames = ['AdID','Type', 'Link', 'TimeScraped']"
   ]
  },
  {
   "cell_type": "code",
   "execution_count": null,
   "metadata": {},
   "outputs": [],
   "source": []
  },
  {
   "cell_type": "code",
   "execution_count": null,
   "metadata": {},
   "outputs": [],
   "source": []
  },
  {
   "cell_type": "code",
   "execution_count": null,
   "metadata": {},
   "outputs": [],
   "source": []
  },
  {
   "cell_type": "code",
   "execution_count": 59,
   "metadata": {},
   "outputs": [],
   "source": [
    "for i in range(0,len(data1)):\n",
    "    urlEx = str(data1['Link'][i])"
   ]
  },
  {
   "cell_type": "code",
   "execution_count": 74,
   "metadata": {},
   "outputs": [],
   "source": [
    "def scrape_info(df, lim = 10, url_base = 'https://www.nepremicnine.net'):\n",
    "    \n",
    "    # first n links\n",
    "    if lim != None: \n",
    "        end = lim\n",
    "    else: \n",
    "        end = len(data1)\n",
    "        \n",
    "    # get individual url to pass to driver:  \n",
    "    for i in range(0,end):\n",
    "        urlEx = str(data1['Link'][i])\n",
    "    \n",
    "        # construct total url: \n",
    "        url = url_base + urlEx\n",
    "        driver.get(url)\n",
    "        \n",
    "    d = []\n",
    "    colNames = col_names\n",
    "    df = pd.DataFrame(d, columns= colNames)\n",
    "    "
   ]
  },
  {
   "cell_type": "code",
   "execution_count": 75,
   "metadata": {},
   "outputs": [
    {
     "name": "stdout",
     "output_type": "stream",
     "text": [
      "https://www.nepremicnine.net/oglasi-prodaja/bezigrajski-dvor-plava-laguna-stanovanje_6390803/\n",
      "https://www.nepremicnine.net/oglasi-prodaja/bs-3-stanovanje_6389036/\n",
      "https://www.nepremicnine.net/oglasi-prodaja/btc-balkon-dvigalo-nova-fasada-stanovanje_6391861/\n",
      "https://www.nepremicnine.net/oglasi-prodaja/crnuce-stanovanje_6391755/\n",
      "https://www.nepremicnine.net/oglasi-prodaja/dravlje-stanovanje_6384315/\n"
     ]
    }
   ],
   "source": [
    "scrape_info(data1,5)"
   ]
  },
  {
   "cell_type": "raw",
   "metadata": {},
   "source": []
  },
  {
   "cell_type": "code",
   "execution_count": 5,
   "metadata": {},
   "outputs": [
    {
     "ename": "SyntaxError",
     "evalue": "invalid syntax (<ipython-input-5-2e3c7e7e56c6>, line 1)",
     "output_type": "error",
     "traceback": [
      "\u001b[1;36m  File \u001b[1;32m\"<ipython-input-5-2e3c7e7e56c6>\"\u001b[1;36m, line \u001b[1;32m1\u001b[0m\n\u001b[1;33m    def check_lim(lim = 4);\u001b[0m\n\u001b[1;37m                          ^\u001b[0m\n\u001b[1;31mSyntaxError\u001b[0m\u001b[1;31m:\u001b[0m invalid syntax\n"
     ]
    }
   ],
   "source": [
    "def check_lim(lim = 4):\n",
    "    for i in range(1,lim):\n",
    "        print(i)"
   ]
  },
  {
   "cell_type": "code",
   "execution_count": null,
   "metadata": {},
   "outputs": [],
   "source": []
  },
  {
   "cell_type": "code",
   "execution_count": null,
   "metadata": {},
   "outputs": [],
   "source": []
  },
  {
   "cell_type": "code",
   "execution_count": null,
   "metadata": {},
   "outputs": [],
   "source": []
  },
  {
   "cell_type": "code",
   "execution_count": null,
   "metadata": {},
   "outputs": [],
   "source": []
  },
  {
   "cell_type": "code",
   "execution_count": null,
   "metadata": {},
   "outputs": [],
   "source": []
  }
 ],
 "metadata": {
  "kernelspec": {
   "display_name": "Python 3",
   "language": "python",
   "name": "python3"
  },
  "language_info": {
   "codemirror_mode": {
    "name": "ipython",
    "version": 3
   },
   "file_extension": ".py",
   "mimetype": "text/x-python",
   "name": "python",
   "nbconvert_exporter": "python",
   "pygments_lexer": "ipython3",
   "version": "3.8.5"
  }
 },
 "nbformat": 4,
 "nbformat_minor": 4
}
